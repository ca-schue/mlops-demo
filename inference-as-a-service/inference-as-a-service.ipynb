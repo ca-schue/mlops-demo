{
 "cells": [
  {
   "cell_type": "code",
   "execution_count": 4,
   "metadata": {},
   "outputs": [],
   "source": [
    "import requests\n",
    "from sklearn.preprocessing import PolynomialFeatures\n",
    "\n",
    "def fuelConversion(fuel):\n",
    "    g = 3.785411784   # liters per gallon\n",
    "    m = 1609.344    # meters per mile\n",
    "    kpg = (g / m * 1000)    # kilometers per gallon \n",
    "    return  100 / fuel * kpg    # returns fuel as mpg to l/100km or vice versa\n",
    "\n",
    "def predict_fuel_consumption_l_100_km(weight_kg, year):\n",
    "  weight_lbs = weight_kg * 2.205\n",
    "  year_mod_100 = year % 100\n",
    "\n",
    "  input = [\n",
    "      [weight_lbs, # Gewicht in Pfund (1110 kg)\n",
    "      year_mod_100]   # Baujahr Modulo 100 (Produktionsbeginn 1971)\n",
    "      ]\n",
    "\n",
    "  transformed_input = PolynomialFeatures(degree=2).fit_transform(input).tolist()\n",
    "  inference_input = {\n",
    "    'instances': transformed_input\n",
    "  }\n",
    "\n",
    "  response = requests.post(\n",
    "    \"http://<Public Kubeflow Endpoint>/kserve/v1/models/sklearn-mpg:predict\", \n",
    "    json=inference_input, \n",
    "    headers={\"Host\": \"sklearn-mpg.kserve-deploy-test.example.com\"}\n",
    "    )\n",
    "\n",
    "  mpg = response.json()[\"predictions\"][0]\n",
    "  return fuelConversion(mpg)"
   ]
  },
  {
   "cell_type": "code",
   "execution_count": 5,
   "metadata": {},
   "outputs": [
    {
     "data": {
      "text/plain": [
       "10.042277210575556"
      ]
     },
     "execution_count": 5,
     "metadata": {},
     "output_type": "execute_result"
    }
   ],
   "source": [
    "# Audi 60L: \n",
    "baujahr = 1971\n",
    "gewicht = 970 + 110 # 4-Türer (970kg) + Fahrer mit Gepäck (110kg)\n",
    "\n",
    "predict_fuel_consumption_l_100_km(weight_kg=gewicht, year=baujahr)"
   ]
  },
  {
   "cell_type": "code",
   "execution_count": 6,
   "metadata": {},
   "outputs": [
    {
     "data": {
      "text/plain": [
       "1.8032310948108592"
      ]
     },
     "execution_count": 6,
     "metadata": {},
     "output_type": "execute_result"
    }
   ],
   "source": [
    "# Audi A4: \n",
    "baujahr = 2023\n",
    "gewicht = 1595 # Leergewicht + Fahrer\n",
    "\n",
    "predict_fuel_consumption_l_100_km(weight_kg=gewicht, year=baujahr)"
   ]
  },
  {
   "cell_type": "code",
   "execution_count": null,
   "metadata": {},
   "outputs": [],
   "source": []
  }
 ],
 "metadata": {
  "kernelspec": {
   "display_name": "DA",
   "language": "python",
   "name": "python3"
  },
  "language_info": {
   "codemirror_mode": {
    "name": "ipython",
    "version": 3
   },
   "file_extension": ".py",
   "mimetype": "text/x-python",
   "name": "python",
   "nbconvert_exporter": "python",
   "pygments_lexer": "ipython3",
   "version": "3.9.16"
  }
 },
 "nbformat": 4,
 "nbformat_minor": 2
}
