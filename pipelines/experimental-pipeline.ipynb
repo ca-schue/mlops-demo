{
 "cells": [
  {
   "cell_type": "markdown",
   "metadata": {},
   "source": [
    "# Ebene \"Vorverarbeitung\""
   ]
  },
  {
   "cell_type": "markdown",
   "metadata": {},
   "source": [
    "### Stufe \"Datenspeicherung\""
   ]
  },
  {
   "cell_type": "code",
   "execution_count": 35,
   "metadata": {},
   "outputs": [],
   "source": [
    "import pandas as pd\n",
    "\n",
    "# Einlesen Datensatz \"auto_mpg\" aus aktuellem Ordner\n",
    "df = pd.read_csv('data_updated.csv')"
   ]
  },
  {
   "cell_type": "markdown",
   "metadata": {},
   "source": [
    "### Stufe \"Datenaufbereitung\""
   ]
  },
  {
   "cell_type": "markdown",
   "metadata": {},
   "source": [
    "#### Exploration"
   ]
  },
  {
   "cell_type": "code",
   "execution_count": 36,
   "metadata": {},
   "outputs": [
    {
     "data": {
      "text/html": [
       "<div>\n",
       "<style scoped>\n",
       "    .dataframe tbody tr th:only-of-type {\n",
       "        vertical-align: middle;\n",
       "    }\n",
       "\n",
       "    .dataframe tbody tr th {\n",
       "        vertical-align: top;\n",
       "    }\n",
       "\n",
       "    .dataframe thead th {\n",
       "        text-align: right;\n",
       "    }\n",
       "</style>\n",
       "<table border=\"1\" class=\"dataframe\">\n",
       "  <thead>\n",
       "    <tr style=\"text-align: right;\">\n",
       "      <th></th>\n",
       "      <th>mpg</th>\n",
       "      <th>cyl</th>\n",
       "      <th>dpl</th>\n",
       "      <th>hp</th>\n",
       "      <th>wght</th>\n",
       "      <th>acc</th>\n",
       "      <th>year</th>\n",
       "      <th>org</th>\n",
       "      <th>name</th>\n",
       "    </tr>\n",
       "  </thead>\n",
       "  <tbody>\n",
       "    <tr>\n",
       "      <th>0</th>\n",
       "      <td>18.0</td>\n",
       "      <td>8</td>\n",
       "      <td>307.0</td>\n",
       "      <td>130</td>\n",
       "      <td>3507</td>\n",
       "      <td>12.0</td>\n",
       "      <td>1970</td>\n",
       "      <td>1</td>\n",
       "      <td>chevrolet chevelle malibu</td>\n",
       "    </tr>\n",
       "    <tr>\n",
       "      <th>1</th>\n",
       "      <td>15.0</td>\n",
       "      <td>8</td>\n",
       "      <td>350.0</td>\n",
       "      <td>165</td>\n",
       "      <td>3693</td>\n",
       "      <td>11.5</td>\n",
       "      <td>1970</td>\n",
       "      <td>1</td>\n",
       "      <td>buick skylark 320</td>\n",
       "    </tr>\n",
       "    <tr>\n",
       "      <th>2</th>\n",
       "      <td>18.0</td>\n",
       "      <td>8</td>\n",
       "      <td>318.0</td>\n",
       "      <td>150</td>\n",
       "      <td>3436</td>\n",
       "      <td>11.0</td>\n",
       "      <td>1970</td>\n",
       "      <td>1</td>\n",
       "      <td>plymouth satellite</td>\n",
       "    </tr>\n",
       "    <tr>\n",
       "      <th>3</th>\n",
       "      <td>16.0</td>\n",
       "      <td>8</td>\n",
       "      <td>304.0</td>\n",
       "      <td>150</td>\n",
       "      <td>3433</td>\n",
       "      <td>12.0</td>\n",
       "      <td>1970</td>\n",
       "      <td>1</td>\n",
       "      <td>amc rebel sst</td>\n",
       "    </tr>\n",
       "    <tr>\n",
       "      <th>4</th>\n",
       "      <td>17.0</td>\n",
       "      <td>8</td>\n",
       "      <td>302.0</td>\n",
       "      <td>140</td>\n",
       "      <td>3449</td>\n",
       "      <td>10.5</td>\n",
       "      <td>1970</td>\n",
       "      <td>1</td>\n",
       "      <td>ford torino</td>\n",
       "    </tr>\n",
       "  </tbody>\n",
       "</table>\n",
       "</div>"
      ],
      "text/plain": [
       "    mpg  cyl    dpl   hp  wght   acc  year  org                       name\n",
       "0  18.0    8  307.0  130  3507  12.0  1970    1  chevrolet chevelle malibu\n",
       "1  15.0    8  350.0  165  3693  11.5  1970    1          buick skylark 320\n",
       "2  18.0    8  318.0  150  3436  11.0  1970    1         plymouth satellite\n",
       "3  16.0    8  304.0  150  3433  12.0  1970    1              amc rebel sst\n",
       "4  17.0    8  302.0  140  3449  10.5  1970    1                ford torino"
      ]
     },
     "metadata": {},
     "output_type": "display_data"
    },
    {
     "name": "stdout",
     "output_type": "stream",
     "text": [
      "<class 'pandas.core.frame.DataFrame'>\n",
      "RangeIndex: 397 entries, 0 to 396\n",
      "Data columns (total 9 columns):\n",
      " #   Column  Non-Null Count  Dtype  \n",
      "---  ------  --------------  -----  \n",
      " 0   mpg     397 non-null    float64\n",
      " 1   cyl     397 non-null    int64  \n",
      " 2   dpl     397 non-null    float64\n",
      " 3   hp      397 non-null    object \n",
      " 4   wght    397 non-null    int64  \n",
      " 5   acc     397 non-null    float64\n",
      " 6   year    397 non-null    int64  \n",
      " 7   org     397 non-null    int64  \n",
      " 8   name    397 non-null    object \n",
      "dtypes: float64(3), int64(4), object(2)\n",
      "memory usage: 28.0+ KB\n",
      "None\n"
     ]
    }
   ],
   "source": [
    "# Ausgabe der ersten 5 Zeilen\n",
    "display(df.head())\n",
    "\n",
    "# Informationen über Struktur und Datentypen des Datensatzes\n",
    "print(df.info())"
   ]
  },
  {
   "cell_type": "markdown",
   "metadata": {},
   "source": [
    "#### Data Cleaning"
   ]
  },
  {
   "cell_type": "code",
   "execution_count": 37,
   "metadata": {},
   "outputs": [
    {
     "name": "stdout",
     "output_type": "stream",
     "text": [
      "<class 'pandas.core.frame.DataFrame'>\n",
      "Index: 385 entries, 0 to 396\n",
      "Data columns (total 8 columns):\n",
      " #   Column  Non-Null Count  Dtype  \n",
      "---  ------  --------------  -----  \n",
      " 0   mpg     385 non-null    float64\n",
      " 1   cyl     385 non-null    int64  \n",
      " 2   dpl     385 non-null    float64\n",
      " 3   hp      385 non-null    float64\n",
      " 4   wght    385 non-null    int64  \n",
      " 5   acc     385 non-null    float64\n",
      " 6   year    385 non-null    int64  \n",
      " 7   org     385 non-null    int64  \n",
      "dtypes: float64(4), int64(4)\n",
      "memory usage: 27.1 KB\n",
      "None\n"
     ]
    }
   ],
   "source": [
    "# Entfernung der nominaler Merkmale für die Regression \n",
    "df = df.drop(columns=['name'])\n",
    "\n",
    "# Umwandlung aller metrischen Merkmale in numerische Datentypen, Inkompatible Einträge werden auf 'missing' (nan) gesetzt.\n",
    "df = df.apply(pd.to_numeric, errors='coerce')\n",
    "\n",
    "# Entfernen der Zeilen mit 'missing' Werten \n",
    "df = df.dropna()\n",
    "\n",
    "# Behandlung von Ausreißern: Löschen aller Werte, die außerhalb von Mittelwert +/- 3 Standardabweichung liegen\n",
    "#for col in df.columns:\n",
    "#    mean = df[col].mean()\n",
    "#    std = df[col].std()\n",
    "#    max_value = mean + 3*std\n",
    "#    min_value = mean - 3*std\n",
    "#    df = df.drop(df[(df[col] < min_value) | (df[col] > max_value)].index)\n",
    "\n",
    "print(df.info())"
   ]
  },
  {
   "cell_type": "markdown",
   "metadata": {},
   "source": [
    "# Ebene \"Modellbildung\""
   ]
  },
  {
   "cell_type": "markdown",
   "metadata": {},
   "source": [
    "### Stufe \"Feature Engineering\""
   ]
  },
  {
   "cell_type": "code",
   "execution_count": 38,
   "metadata": {},
   "outputs": [
    {
     "data": {
      "text/html": [
       "<div>\n",
       "<style scoped>\n",
       "    .dataframe tbody tr th:only-of-type {\n",
       "        vertical-align: middle;\n",
       "    }\n",
       "\n",
       "    .dataframe tbody tr th {\n",
       "        vertical-align: top;\n",
       "    }\n",
       "\n",
       "    .dataframe thead th {\n",
       "        text-align: right;\n",
       "    }\n",
       "</style>\n",
       "<table border=\"1\" class=\"dataframe\">\n",
       "  <thead>\n",
       "    <tr style=\"text-align: right;\">\n",
       "      <th></th>\n",
       "      <th>mpg</th>\n",
       "      <th>cyl</th>\n",
       "      <th>dpl</th>\n",
       "      <th>hp</th>\n",
       "      <th>wght</th>\n",
       "      <th>acc</th>\n",
       "      <th>year</th>\n",
       "      <th>org</th>\n",
       "    </tr>\n",
       "  </thead>\n",
       "  <tbody>\n",
       "    <tr>\n",
       "      <th>mpg</th>\n",
       "      <td>1.000000</td>\n",
       "      <td>-0.774643</td>\n",
       "      <td>-0.807068</td>\n",
       "      <td>-0.787812</td>\n",
       "      <td>-0.833591</td>\n",
       "      <td>0.395288</td>\n",
       "      <td>0.568161</td>\n",
       "      <td>0.562748</td>\n",
       "    </tr>\n",
       "    <tr>\n",
       "      <th>cyl</th>\n",
       "      <td>-0.774643</td>\n",
       "      <td>1.000000</td>\n",
       "      <td>0.954300</td>\n",
       "      <td>0.849691</td>\n",
       "      <td>0.899001</td>\n",
       "      <td>-0.486261</td>\n",
       "      <td>-0.325974</td>\n",
       "      <td>-0.564313</td>\n",
       "    </tr>\n",
       "    <tr>\n",
       "      <th>dpl</th>\n",
       "      <td>-0.807068</td>\n",
       "      <td>0.954300</td>\n",
       "      <td>1.000000</td>\n",
       "      <td>0.890674</td>\n",
       "      <td>0.939714</td>\n",
       "      <td>-0.517863</td>\n",
       "      <td>-0.343222</td>\n",
       "      <td>-0.617161</td>\n",
       "    </tr>\n",
       "    <tr>\n",
       "      <th>hp</th>\n",
       "      <td>-0.787812</td>\n",
       "      <td>0.849691</td>\n",
       "      <td>0.890674</td>\n",
       "      <td>1.000000</td>\n",
       "      <td>0.878481</td>\n",
       "      <td>-0.669937</td>\n",
       "      <td>-0.389594</td>\n",
       "      <td>-0.456519</td>\n",
       "    </tr>\n",
       "    <tr>\n",
       "      <th>wght</th>\n",
       "      <td>-0.833591</td>\n",
       "      <td>0.899001</td>\n",
       "      <td>0.939714</td>\n",
       "      <td>0.878481</td>\n",
       "      <td>1.000000</td>\n",
       "      <td>-0.402908</td>\n",
       "      <td>-0.293149</td>\n",
       "      <td>-0.583710</td>\n",
       "    </tr>\n",
       "    <tr>\n",
       "      <th>acc</th>\n",
       "      <td>0.395288</td>\n",
       "      <td>-0.486261</td>\n",
       "      <td>-0.517863</td>\n",
       "      <td>-0.669937</td>\n",
       "      <td>-0.402908</td>\n",
       "      <td>1.000000</td>\n",
       "      <td>0.253311</td>\n",
       "      <td>0.197010</td>\n",
       "    </tr>\n",
       "    <tr>\n",
       "      <th>year</th>\n",
       "      <td>0.568161</td>\n",
       "      <td>-0.325974</td>\n",
       "      <td>-0.343222</td>\n",
       "      <td>-0.389594</td>\n",
       "      <td>-0.293149</td>\n",
       "      <td>0.253311</td>\n",
       "      <td>1.000000</td>\n",
       "      <td>0.169711</td>\n",
       "    </tr>\n",
       "    <tr>\n",
       "      <th>org</th>\n",
       "      <td>0.562748</td>\n",
       "      <td>-0.564313</td>\n",
       "      <td>-0.617161</td>\n",
       "      <td>-0.456519</td>\n",
       "      <td>-0.583710</td>\n",
       "      <td>0.197010</td>\n",
       "      <td>0.169711</td>\n",
       "      <td>1.000000</td>\n",
       "    </tr>\n",
       "  </tbody>\n",
       "</table>\n",
       "</div>"
      ],
      "text/plain": [
       "           mpg       cyl       dpl        hp      wght       acc      year   \n",
       "mpg   1.000000 -0.774643 -0.807068 -0.787812 -0.833591  0.395288  0.568161  \\\n",
       "cyl  -0.774643  1.000000  0.954300  0.849691  0.899001 -0.486261 -0.325974   \n",
       "dpl  -0.807068  0.954300  1.000000  0.890674  0.939714 -0.517863 -0.343222   \n",
       "hp   -0.787812  0.849691  0.890674  1.000000  0.878481 -0.669937 -0.389594   \n",
       "wght -0.833591  0.899001  0.939714  0.878481  1.000000 -0.402908 -0.293149   \n",
       "acc   0.395288 -0.486261 -0.517863 -0.669937 -0.402908  1.000000  0.253311   \n",
       "year  0.568161 -0.325974 -0.343222 -0.389594 -0.293149  0.253311  1.000000   \n",
       "org   0.562748 -0.564313 -0.617161 -0.456519 -0.583710  0.197010  0.169711   \n",
       "\n",
       "           org  \n",
       "mpg   0.562748  \n",
       "cyl  -0.564313  \n",
       "dpl  -0.617161  \n",
       "hp   -0.456519  \n",
       "wght -0.583710  \n",
       "acc   0.197010  \n",
       "year  0.169711  \n",
       "org   1.000000  "
      ]
     },
     "metadata": {},
     "output_type": "display_data"
    },
    {
     "data": {
      "image/png": "[encoded data removed]",
      "text/plain": [
       "<Figure size 260x260 with 1 Axes>"
      ]
     },
     "metadata": {},
     "output_type": "display_data"
    }
   ],
   "source": [
    "# Bivariate Korrelation der Merkmale untereinander und zu mpg betrachten\n",
    "display(df.corr())\n",
    "\n",
    "# Grafische Darstellung der bivariaten Korrelation der Merkmale untereinander und zu mpg\n",
    "%matplotlib inline\n",
    "import matplotlib.pyplot as plt\n",
    "def corr_heatmap(df,size=2.6):\n",
    "    corr = df.corr()\n",
    "    fig, ax = plt.subplots(figsize=(size, size))\n",
    "    ax.matshow(abs(corr))\n",
    "    plt.xticks(range(len(corr.columns)), corr.columns, rotation=45);\n",
    "    plt.yticks(range(len(corr.columns)), corr.columns);\n",
    "corr_heatmap(df)"
   ]
  },
  {
   "cell_type": "code",
   "execution_count": 39,
   "metadata": {},
   "outputs": [
    {
     "data": {
      "image/png": "[encoded data removed]",
      "text/plain": [
       "<Figure size 700x250 with 3 Axes>"
      ]
     },
     "metadata": {},
     "output_type": "display_data"
    }
   ],
   "source": [
    "%matplotlib inline\n",
    "import matplotlib.pyplot as plt\n",
    "\n",
    "fig, axs = plt.subplots(1, 3, figsize=(7,2.5))\n",
    "\n",
    "# Visualisierung des Zusammenhangs zu mpg am Beispiel weight, KorrCoeff = -0,83\n",
    "axs[0].scatter(df.mpg, df.wght, s=10, c='g')\n",
    "axs[0].set_xlabel('Meilen pro Gallone')\n",
    "axs[0].set_ylabel('Gewicht')\n",
    "\n",
    "# Visualisierung des Zusammenhangs zu mpg am Beispiel year, KorrCoeff = 0,58\n",
    "axs[1].scatter(df.mpg, df.year, s=10, c='b')\n",
    "axs[1].set_xlabel('Meilen pro Gallone')\n",
    "axs[1].set_ylabel('Baujahr')\n",
    "\n",
    "# Visualisierung des Zusammenhangs zu mpg am Beispiel year, KorrCoeff = 0,58\n",
    "axs[2].scatter(df.wght, df.year, s=10)\n",
    "axs[2].set_xlabel('Gewicht')\n",
    "axs[2].set_ylabel('Baujahr')\n",
    "\n",
    "fig.tight_layout(pad=3)\n",
    "plt.show()\n",
    "\n",
    "# Ausschließliche Betrachtung der Variablen \"Gewicht\" und \"Baujahr\"\n",
    "X = df[[\"wght\", \"year\"]]\n",
    "y_true = df[\"mpg\"]"
   ]
  },
  {
   "cell_type": "code",
   "execution_count": 40,
   "metadata": {},
   "outputs": [],
   "source": [
    "df.to_csv('data_updated_feature_eng.csv', index=False)"
   ]
  },
  {
   "cell_type": "code",
   "execution_count": null,
   "metadata": {},
   "outputs": [],
   "source": [
    "## Iteration 3: Feature \"Ursprungsland\"\n",
    "\n",
    "%matplotlib inline\n",
    "import matplotlib.pyplot as plt\n",
    "\n",
    "fig, axs = plt.subplots(1, 3, figsize=(7,2.5))\n",
    "\n",
    "# Visualisierung des Zusammenhangs zu mpg am Beispiel weight, KorrCoeff = -0,83\n",
    "axs[0].scatter(df.mpg, df.wght, s=10, c='g')\n",
    "axs[0].set_xlabel('Meilen pro Gallone')\n",
    "axs[0].set_ylabel('Gewicht')\n",
    "\n",
    "# Visualisierung des Zusammenhangs zu mpg am Beispiel year, KorrCoeff = 0,58\n",
    "axs[1].scatter(df.mpg, df.org, s=10, c='b')\n",
    "axs[1].set_xlabel('Meilen pro Gallone')\n",
    "axs[1].set_ylabel('Ursprungsland')\n",
    "\n",
    "# Visualisierung des Zusammenhangs zu mpg am#\n",
    "#  Beispiel year, KorrCoeff = 0,58\n",
    "axs[2].scatter(df.wght, df.org, s=10)\n",
    "axs[2].set_xlabel('Gewicht')\n",
    "axs[2].set_ylabel('Ursprungsland')\n",
    "\n",
    "fig.tight_layout(pad=3)\n",
    "plt.show()\n",
    "\n",
    "# Iteration 3: Ausschließliche Betrachtung der Variablen \"Gewicht\" und \"Ursprungsland\"\n",
    "X = df[[\"wght\", \"org\"]]\n",
    "y_true = df[\"mpg\"]"
   ]
  },
  {
   "cell_type": "markdown",
   "metadata": {},
   "source": [
    "### Stufe Modellbildung"
   ]
  },
  {
   "cell_type": "code",
   "execution_count": null,
   "metadata": {},
   "outputs": [],
   "source": [
    "# Trainieren eines linearen Regressionsmodells\n",
    "from sklearn.linear_model import LinearRegression\n",
    "\n",
    "# Anlegen des Objekts \"Lineare Regression\" und Ausführen der Regression\n",
    "lm = LinearRegression()\n",
    "lm.fit(X, y_true)"
   ]
  },
  {
   "cell_type": "code",
   "execution_count": 28,
   "metadata": {},
   "outputs": [
    {
     "data": {
      "text/html": [
       "<style>#sk-container-id-3 {color: black;}#sk-container-id-3 pre{padding: 0;}#sk-container-id-3 div.sk-toggleable {background-color: white;}#sk-container-id-3 label.sk-toggleable__label {cursor: pointer;display: block;width: 100%;margin-bottom: 0;padding: 0.3em;box-sizing: border-box;text-align: center;}#sk-container-id-3 label.sk-toggleable__label-arrow:before {content: \"▸\";float: left;margin-right: 0.25em;color: #696969;}#sk-container-id-3 label.sk-toggleable__label-arrow:hover:before {color: black;}#sk-container-id-3 div.sk-estimator:hover label.sk-toggleable__label-arrow:before {color: black;}#sk-container-id-3 div.sk-toggleable__content {max-height: 0;max-width: 0;overflow: hidden;text-align: left;background-color: #f0f8ff;}#sk-container-id-3 div.sk-toggleable__content pre {margin: 0.2em;color: black;border-radius: 0.25em;background-color: #f0f8ff;}#sk-container-id-3 input.sk-toggleable__control:checked~div.sk-toggleable__content {max-height: 200px;max-width: 100%;overflow: auto;}#sk-container-id-3 input.sk-toggleable__control:checked~label.sk-toggleable__label-arrow:before {content: \"▾\";}#sk-container-id-3 div.sk-estimator input.sk-toggleable__control:checked~label.sk-toggleable__label {background-color: #d4ebff;}#sk-container-id-3 div.sk-label input.sk-toggleable__control:checked~label.sk-toggleable__label {background-color: #d4ebff;}#sk-container-id-3 input.sk-hidden--visually {border: 0;clip: rect(1px 1px 1px 1px);clip: rect(1px, 1px, 1px, 1px);height: 1px;margin: -1px;overflow: hidden;padding: 0;position: absolute;width: 1px;}#sk-container-id-3 div.sk-estimator {font-family: monospace;background-color: #f0f8ff;border: 1px dotted black;border-radius: 0.25em;box-sizing: border-box;margin-bottom: 0.5em;}#sk-container-id-3 div.sk-estimator:hover {background-color: #d4ebff;}#sk-container-id-3 div.sk-parallel-item::after {content: \"\";width: 100%;border-bottom: 1px solid gray;flex-grow: 1;}#sk-container-id-3 div.sk-label:hover label.sk-toggleable__label {background-color: #d4ebff;}#sk-container-id-3 div.sk-serial::before {content: \"\";position: absolute;border-left: 1px solid gray;box-sizing: border-box;top: 0;bottom: 0;left: 50%;z-index: 0;}#sk-container-id-3 div.sk-serial {display: flex;flex-direction: column;align-items: center;background-color: white;padding-right: 0.2em;padding-left: 0.2em;position: relative;}#sk-container-id-3 div.sk-item {position: relative;z-index: 1;}#sk-container-id-3 div.sk-parallel {display: flex;align-items: stretch;justify-content: center;background-color: white;position: relative;}#sk-container-id-3 div.sk-item::before, #sk-container-id-3 div.sk-parallel-item::before {content: \"\";position: absolute;border-left: 1px solid gray;box-sizing: border-box;top: 0;bottom: 0;left: 50%;z-index: -1;}#sk-container-id-3 div.sk-parallel-item {display: flex;flex-direction: column;z-index: 1;position: relative;background-color: white;}#sk-container-id-3 div.sk-parallel-item:first-child::after {align-self: flex-end;width: 50%;}#sk-container-id-3 div.sk-parallel-item:last-child::after {align-self: flex-start;width: 50%;}#sk-container-id-3 div.sk-parallel-item:only-child::after {width: 0;}#sk-container-id-3 div.sk-dashed-wrapped {border: 1px dashed gray;margin: 0 0.4em 0.5em 0.4em;box-sizing: border-box;padding-bottom: 0.4em;background-color: white;}#sk-container-id-3 div.sk-label label {font-family: monospace;font-weight: bold;display: inline-block;line-height: 1.2em;}#sk-container-id-3 div.sk-label-container {text-align: center;}#sk-container-id-3 div.sk-container {/* jupyter's `normalize.less` sets `[hidden] { display: none; }` but bootstrap.min.css set `[hidden] { display: none !important; }` so we also need the `!important` here to be able to override the default hidden behavior on the sphinx rendered scikit-learn.org. See: https://github.com/scikit-learn/scikit-learn/issues/21755 */display: inline-block !important;position: relative;}#sk-container-id-3 div.sk-text-repr-fallback {display: none;}</style><div id=\"sk-container-id-3\" class=\"sk-top-container\"><div class=\"sk-text-repr-fallback\"><pre>LinearRegression()</pre><b>In a Jupyter environment, please rerun this cell to show the HTML representation or trust the notebook. <br />On GitHub, the HTML representation is unable to render, please try loading this page with nbviewer.org.</b></div><div class=\"sk-container\" hidden><div class=\"sk-item\"><div class=\"sk-estimator sk-toggleable\"><input class=\"sk-toggleable__control sk-hidden--visually\" id=\"sk-estimator-id-3\" type=\"checkbox\" checked><label for=\"sk-estimator-id-3\" class=\"sk-toggleable__label sk-toggleable__label-arrow\">LinearRegression</label><div class=\"sk-toggleable__content\"><pre>LinearRegression()</pre></div></div></div></div></div>"
      ],
      "text/plain": [
       "LinearRegression()"
      ]
     },
     "execution_count": 28,
     "metadata": {},
     "output_type": "execute_result"
    }
   ],
   "source": [
    "## Iteration 2: Polynomiale Regression\n",
    "\n",
    "from sklearn.preprocessing import PolynomialFeatures\n",
    "from sklearn.linear_model import LinearRegression\n",
    "\n",
    "X_poly = PolynomialFeatures(degree=2).fit_transform(X)\n",
    "\n",
    "poly = LinearRegression()\n",
    "poly.fit(X_poly, y_true)\n"
   ]
  },
  {
   "cell_type": "markdown",
   "metadata": {},
   "source": [
    "### Stufe Evaluierung"
   ]
  },
  {
   "cell_type": "code",
   "execution_count": null,
   "metadata": {},
   "outputs": [],
   "source": [
    "from sklearn.metrics import PredictionErrorDisplay\n",
    "\n",
    "y_pred = lm.predict(X)\n",
    "\n",
    "# Ausgabe Bestimmtheitsmaß R^2\n",
    "r_2 = lm.score(X, df.mpg)\n",
    "\n",
    "# Visueller Vergleich der wahren mit den vorhergesagten Werten\n",
    "fig, axs = plt.subplots(ncols=2, figsize=(7, 4.5))\n",
    "PredictionErrorDisplay.from_predictions(\n",
    "    y_true=y_true,\n",
    "    y_pred=y_pred,\n",
    "    kind=\"actual_vs_predicted\",\n",
    "    subsample=100,\n",
    "    ax=axs[0],\n",
    "    random_state=0,\n",
    ")\n",
    "axs[0].get_xaxis().set_ticks([])\n",
    "axs[0].get_yaxis().set_ticks([])\n",
    "PredictionErrorDisplay.from_predictions(\n",
    "    y_true=y_true,\n",
    "    y_pred=y_pred,\n",
    "    kind=\"residual_vs_predicted\",\n",
    "    subsample=100,\n",
    "    ax=axs[1],\n",
    "    random_state=0,\n",
    ")\n",
    "axs[1].set_ylabel(\"Actual - Predicted values\", labelpad = -2)\n",
    "fig.suptitle(\"R^2 score: \" + str(r_2), y=0.9)\n",
    "plt.tight_layout(pad=3)\n",
    "plt.savefig(\"metrics.png\")\n"
   ]
  },
  {
   "cell_type": "code",
   "execution_count": 29,
   "metadata": {},
   "outputs": [
    {
     "data": {
      "image/png": "[encoded data removed]",
      "text/plain": [
       "<Figure size 700x450 with 2 Axes>"
      ]
     },
     "metadata": {},
     "output_type": "display_data"
    }
   ],
   "source": [
    "## Iteration 2: polynomiale Regression\n",
    "\n",
    "from sklearn.metrics import PredictionErrorDisplay\n",
    "\n",
    "y_pred = poly.predict(X_poly)\n",
    "\n",
    "# Ausgabe Bestimmtheitsmaß R^2\n",
    "r_2 = poly.score(X_poly, df.mpg)\n",
    "\n",
    "# Visueller Vergleich der wahren mit den vorhergesagten Werten\n",
    "fig, axs = plt.subplots(ncols=2, figsize=(7, 4.5))\n",
    "PredictionErrorDisplay.from_predictions(\n",
    "    y_true=y_true,\n",
    "    y_pred=y_pred,\n",
    "    kind=\"actual_vs_predicted\",\n",
    "    subsample=100,\n",
    "    ax=axs[0],\n",
    "    random_state=0,\n",
    ")\n",
    "axs[0].get_xaxis().set_ticks([])\n",
    "axs[0].get_yaxis().set_ticks([])\n",
    "PredictionErrorDisplay.from_predictions(\n",
    "    y_true=y_true,\n",
    "    y_pred=y_pred,\n",
    "    kind=\"residual_vs_predicted\",\n",
    "    subsample=100,\n",
    "    ax=axs[1],\n",
    "    random_state=0,\n",
    ")\n",
    "axs[1].set_ylabel(\"Actual - Predicted values\", labelpad = -2)\n",
    "fig.suptitle(\"R^2 score: \" + str(r_2), y=0.9)\n",
    "plt.tight_layout(pad=3)\n",
    "plt.savefig(\"metrics.png\")"
   ]
  },
  {
   "cell_type": "markdown",
   "metadata": {},
   "source": [
    "# Ebene \"Nachbearbeitung\""
   ]
  },
  {
   "cell_type": "markdown",
   "metadata": {},
   "source": [
    "### Stufe \"Bereitstellung\""
   ]
  },
  {
   "cell_type": "code",
   "execution_count": null,
   "metadata": {},
   "outputs": [],
   "source": [
    "import pickle\n",
    "\n",
    "with open(\"model.pkl\",'wb') as f:\n",
    "    pickle.dump(lm,f)"
   ]
  },
  {
   "cell_type": "code",
   "execution_count": null,
   "metadata": {},
   "outputs": [],
   "source": []
  },
  {
   "cell_type": "code",
   "execution_count": 33,
   "metadata": {},
   "outputs": [
    {
     "name": "stdout",
     "output_type": "stream",
     "text": [
      "[[2381.4, 71]]\n",
      "[10.1103164]\n"
     ]
    }
   ],
   "source": [
    "from sklearn.preprocessing import PolynomialFeatures\n",
    "\n",
    "def fuelConversion(fuel):\n",
    "    g = 3.785411784   # liters per gallon\n",
    "    m = 1609.344    # meters per mile\n",
    "    kpg = (g / m * 1000)    # kilometers per gallon \n",
    "    return  100 / fuel * kpg    # returns fuel as mpg to l/100km or vice versa\n",
    "\n",
    "weight_kg = 1080\n",
    "year = 1971\n",
    "\n",
    "weight_lbs = weight_kg * 2.205\n",
    "year_mod_100 = year % 100\n",
    "\n",
    "input = [\n",
    "    [weight_lbs, # Gewicht in Pfund (1110 kg)\n",
    "    year_mod_100]   # Baujahr Modulo 100 (Produktionsbeginn 1971)\n",
    "    ]\n",
    "\n",
    "print(input)\n",
    "\n",
    "transformed_input = PolynomialFeatures(degree=2).fit_transform(input).tolist()\n",
    "\n",
    "print(fuelConversion(poly.predict(transformed_input)))"
   ]
  },
  {
   "cell_type": "code",
   "execution_count": 34,
   "metadata": {},
   "outputs": [],
   "source": [
    "import csv\n",
    "\n",
    "# Öffne die CSV-Datei im Lesemodus\n",
    "with open('data.csv', 'r') as file:\n",
    "    # Lese den Inhalt der CSV-Datei\n",
    "    csv_reader = csv.reader(file)\n",
    "    \n",
    "    # Extrahiere die Header-Zeile\n",
    "    headers = next(csv_reader)\n",
    "    \n",
    "    # Index der \"year\"-Spalte finden\n",
    "    year_index = headers.index('year')\n",
    "    \n",
    "    # Lese die Daten und aktualisiere die \"year\"-Spalte\n",
    "    data = [row[:year_index] + ['19' + row[year_index]] + row[year_index+1:] for row in csv_reader]\n",
    "\n",
    "# Öffne die CSV-Datei im Schreibmodus und schreibe die aktualisierten Daten\n",
    "with open('data_updated.csv', 'w', newline='') as file:\n",
    "    # Schreibe die Header-Zeile\n",
    "    csv_writer = csv.writer(file)\n",
    "    csv_writer.writerow(headers)\n",
    "    \n",
    "    # Schreibe die aktualisierten Daten\n",
    "    csv_writer.writerows(data)"
   ]
  },
  {
   "cell_type": "code",
   "execution_count": null,
   "metadata": {},
   "outputs": [],
   "source": []
  }
 ],
 "metadata": {
  "kernelspec": {
   "display_name": "Python 3",
   "language": "python",
   "name": "python3"
  },
  "language_info": {
   "codemirror_mode": {
    "name": "ipython",
    "version": 3
   },
   "file_extension": ".py",
   "mimetype": "text/x-python",
   "name": "python",
   "nbconvert_exporter": "python",
   "pygments_lexer": "ipython3",
   "version": "3.9.16"
  }
 },
 "nbformat": 4,
 "nbformat_minor": 1
}
